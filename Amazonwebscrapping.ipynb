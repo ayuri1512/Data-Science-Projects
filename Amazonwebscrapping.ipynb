{
  "nbformat": 4,
  "nbformat_minor": 0,
  "metadata": {
    "colab": {
      "provenance": []
    },
    "kernelspec": {
      "name": "python3",
      "display_name": "Python 3"
    },
    "language_info": {
      "name": "python"
    }
  },
  "cells": [
    {
      "cell_type": "code",
      "execution_count": 1,
      "metadata": {
        "colab": {
          "base_uri": "https://localhost:8080/"
        },
        "id": "BBNM3DWmSKrU",
        "outputId": "fbd9dc74-1578-4885-afa1-3fa80a4ae007"
      },
      "outputs": [
        {
          "output_type": "stream",
          "name": "stdout",
          "text": [
            "Requirement already satisfied: beautifulsoup4 in /usr/local/lib/python3.11/dist-packages (4.13.4)\n",
            "Requirement already satisfied: soupsieve>1.2 in /usr/local/lib/python3.11/dist-packages (from beautifulsoup4) (2.7)\n",
            "Requirement already satisfied: typing-extensions>=4.0.0 in /usr/local/lib/python3.11/dist-packages (from beautifulsoup4) (4.14.1)\n"
          ]
        }
      ],
      "source": [
        "!pip install beautifulsoup4"
      ]
    },
    {
      "cell_type": "code",
      "source": [
        "import pandas as pd\n",
        "from bs4 import BeautifulSoup as bt\n",
        "import requests"
      ],
      "metadata": {
        "id": "6GkGQ2BPSkfI"
      },
      "execution_count": 2,
      "outputs": []
    },
    {
      "cell_type": "code",
      "source": [
        "base_url = \"https://www.amazon.in/gp/bestsellers/books/4149461031/ref=zg_bs_pg_{}?ie=UTF8&pg={}\"\n",
        "\n",
        "#we always mimic a real browser to avoid being blocked by AMAZON, thats why we will use User-Agent\n",
        "\n",
        "headers = {\n",
        "    \"User-Agent\": \"Mozilla/5.0 (Windows NT 10.0; Win64; x64) AppleWebKit/537.36 (KHTML, like Gecko) Chrome/58.0.3029.110 Safari/537.3\"\n",
        "}"
      ],
      "metadata": {
        "id": "_QOsJCgnSklk"
      },
      "execution_count": 3,
      "outputs": []
    },
    {
      "cell_type": "code",
      "source": [
        "book_list = []\n",
        "\n",
        "for page in range(1,4):\n",
        "  url = base_url.format(page, page) #construct url for current page\n",
        "\n",
        "  response = requests.get(url, headers=headers)\n",
        "\n",
        "  soup = bt(response.content, \"lxml\")\n",
        "\n",
        "  books = soup.find_all(\"div\", {\"class\":\"zg-grid-general-faceout\"})\n",
        "\n",
        "  for book in books:\n",
        "    if len(book_list) < 50:\n",
        "      author = book.find(\"a\", class_=\"a-size-small a-link-child\").get_text(strip=True)  if book.find(\"a\", class_=\"a-size-small a-link-child\") else \"N/A\"\n",
        "      rating = book.find(\"span\", class_=\"a-icon-alt\").get_text(strip=True) if book.find(\"span\", class_=\"a-icon-alt\") else \"N/A\"\n",
        "\n",
        "      book_list.append({\n",
        "          \"Author\": author,\n",
        "          \"Rating\": rating\n",
        "      })\n",
        "    else:\n",
        "      break"
      ],
      "metadata": {
        "id": "VYFtmNDMSkoj"
      },
      "execution_count": 4,
      "outputs": []
    },
    {
      "cell_type": "code",
      "source": [
        "df = pd.DataFrame(book_list)\n",
        "\n",
        "print(df.head())\n",
        "\n",
        "df.to_csv(\"Amazon top 50 books author rating\") #SAVE THE DATAFRANE TO A CSV"
      ],
      "metadata": {
        "colab": {
          "base_uri": "https://localhost:8080/"
        },
        "id": "66ZRh91oSkrE",
        "outputId": "49c746b9-4d1c-4424-cd84-2d543cc37012"
      },
      "execution_count": 5,
      "outputs": [
        {
          "output_type": "stream",
          "name": "stdout",
          "text": [
            "           Author              Rating\n",
            "0  Shaifali Saini  4.6 out of 5 stars\n",
            "1        PR Yadav  4.4 out of 5 stars\n",
            "2  एम लक्ष्मीकांत  4.4 out of 5 stars\n",
            "3             N/A  4.4 out of 5 stars\n",
            "4             N/A  4.4 out of 5 stars\n"
          ]
        }
      ]
    },
    {
      "cell_type": "code",
      "source": [
        "print(df.sample(10))"
      ],
      "metadata": {
        "colab": {
          "base_uri": "https://localhost:8080/"
        },
        "id": "H2PpkQ4hSktk",
        "outputId": "3d7fef8c-b0da-40f7-cad8-4796a3585cf8"
      },
      "execution_count": 6,
      "outputs": [
        {
          "output_type": "stream",
          "name": "stdout",
          "text": [
            "                    Author              Rating\n",
            "26                     N/A  4.4 out of 5 stars\n",
            "3                      N/A  4.4 out of 5 stars\n",
            "43      Wonder House Books  4.7 out of 5 stars\n",
            "9                      N/A  4.7 out of 5 stars\n",
            "18          Amit M Agarwal  4.3 out of 5 stars\n",
            "15  ALLEN Expert Faculties  4.2 out of 5 stars\n",
            "23           Rakesh Pandey  4.5 out of 5 stars\n",
            "1                 PR Yadav  4.4 out of 5 stars\n",
            "33  ALLEN Expert Faculties  5.0 out of 5 stars\n",
            "19                     N/A  4.4 out of 5 stars\n"
          ]
        }
      ]
    }
  ]
}