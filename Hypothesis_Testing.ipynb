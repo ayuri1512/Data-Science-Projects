{
  "nbformat": 4,
  "nbformat_minor": 0,
  "metadata": {
    "colab": {
      "provenance": [],
      "authorship_tag": "ABX9TyNaGrl7zMhK1HCnCyK5C+E1"
    },
    "kernelspec": {
      "name": "python3",
      "display_name": "Python 3"
    },
    "language_info": {
      "name": "python"
    }
  },
  "cells": [
    {
      "cell_type": "code",
      "execution_count": null,
      "metadata": {
        "id": "0h74Bc_Qrq4M"
      },
      "outputs": [],
      "source": [
        "import pandas as pd\n",
        "from scipy.stats import ttest_ind"
      ]
    },
    {
      "cell_type": "code",
      "source": [
        "from google.colab import drive\n",
        "drive.mount(\"/content/drive\")"
      ],
      "metadata": {
        "colab": {
          "base_uri": "https://localhost:8080/"
        },
        "id": "shdMJuHcvSyJ",
        "outputId": "a6658072-5169-4769-f968-733f3707568f"
      },
      "execution_count": null,
      "outputs": [
        {
          "output_type": "stream",
          "name": "stdout",
          "text": [
            "Mounted at /content/drive\n"
          ]
        }
      ]
    },
    {
      "cell_type": "code",
      "source": [
        "!ls /content/drive/MyDrive/DS/Datasets/website_ab_test.csv"
      ],
      "metadata": {
        "colab": {
          "base_uri": "https://localhost:8080/"
        },
        "id": "gL4bySj5vaZ6",
        "outputId": "289c9d30-1abf-4858-83eb-11dad9c7abfe"
      },
      "execution_count": null,
      "outputs": [
        {
          "output_type": "stream",
          "name": "stdout",
          "text": [
            "/content/drive/MyDrive/DS/Datasets/website_ab_test.csv\n"
          ]
        }
      ]
    },
    {
      "cell_type": "code",
      "source": [
        "df = pd.read_csv(\"/content/drive/MyDrive/DS/Datasets/website_ab_test.csv\")"
      ],
      "metadata": {
        "id": "tQqm1Db8vogk"
      },
      "execution_count": null,
      "outputs": []
    },
    {
      "cell_type": "code",
      "source": [
        "print(df.head())"
      ],
      "metadata": {
        "colab": {
          "base_uri": "https://localhost:8080/"
        },
        "id": "EMb0AZmbv4H-",
        "outputId": "3adbb286-1c9f-4c36-dddd-083403d6aa69"
      },
      "execution_count": null,
      "outputs": [
        {
          "output_type": "stream",
          "name": "stdout",
          "text": [
            "         Theme  Click Through Rate  Conversion Rate  Bounce Rate  \\\n",
            "0  Light Theme            0.054920         0.282367     0.405085   \n",
            "1  Light Theme            0.113932         0.032973     0.732759   \n",
            "2   Dark Theme            0.323352         0.178763     0.296543   \n",
            "3  Light Theme            0.485836         0.325225     0.245001   \n",
            "4  Light Theme            0.034783         0.196766     0.765100   \n",
            "\n",
            "   Scroll_Depth  Age   Location  Session_Duration Purchases Added_to_Cart  \n",
            "0     72.489458   25    Chennai              1535        No           Yes  \n",
            "1     61.858568   19       Pune               303        No           Yes  \n",
            "2     45.737376   47    Chennai               563       Yes           Yes  \n",
            "3     76.305298   58       Pune               385       Yes            No  \n",
            "4     48.927407   25  New Delhi              1437        No            No  \n"
          ]
        }
      ]
    },
    {
      "cell_type": "code",
      "source": [
        "summary = {\n",
        "    'Number of Records': df.shape[0],\n",
        "    'Number of Columns': df.shape[1],\n",
        "    'Missing Value': df.isnull().sum(),\n",
        "    'Numberical Columns Summary': df.describe()\n",
        "\n",
        "}\n",
        "\n",
        "summary"
      ],
      "metadata": {
        "colab": {
          "base_uri": "https://localhost:8080/"
        },
        "id": "RxbCPCMBv4Kh",
        "outputId": "ba118b3e-e1ec-4e81-b790-4e489901510b"
      },
      "execution_count": null,
      "outputs": [
        {
          "output_type": "execute_result",
          "data": {
            "text/plain": [
              "{'Number of Records': 1000,\n",
              " 'Number of Columns': 10,\n",
              " 'Missing Value': Theme                 0\n",
              " Click Through Rate    0\n",
              " Conversion Rate       0\n",
              " Bounce Rate           0\n",
              " Scroll_Depth          0\n",
              " Age                   0\n",
              " Location              0\n",
              " Session_Duration      0\n",
              " Purchases             0\n",
              " Added_to_Cart         0\n",
              " dtype: int64,\n",
              " 'Numberical Columns Summary':        Click Through Rate  Conversion Rate  Bounce Rate  Scroll_Depth  \\\n",
              " count         1000.000000      1000.000000  1000.000000   1000.000000   \n",
              " mean             0.256048         0.253312     0.505758     50.319494   \n",
              " std              0.139265         0.139092     0.172195     16.895269   \n",
              " min              0.010767         0.010881     0.200720     20.011738   \n",
              " 25%              0.140794         0.131564     0.353609     35.655167   \n",
              " 50%              0.253715         0.252823     0.514049     51.130712   \n",
              " 75%              0.370674         0.373040     0.648557     64.666258   \n",
              " max              0.499989         0.498916     0.799658     79.997108   \n",
              " \n",
              "                Age  Session_Duration  \n",
              " count  1000.000000       1000.000000  \n",
              " mean     41.528000        924.999000  \n",
              " std      14.114334        508.231723  \n",
              " min      18.000000         38.000000  \n",
              " 25%      29.000000        466.500000  \n",
              " 50%      42.000000        931.000000  \n",
              " 75%      54.000000       1375.250000  \n",
              " max      65.000000       1797.000000  }"
            ]
          },
          "metadata": {},
          "execution_count": 6
        }
      ]
    },
    {
      "cell_type": "code",
      "source": [
        "#select the numerical column\n",
        "select_numerical_data = df.select_dtypes(include = ['number'])\n",
        "\n",
        "#grouping data by theme and calculating mean value for the metrics\n",
        "theme_perfomance = df.groupby('Theme')[select_numerical_data.columns].mean()\n",
        "\n",
        "#sorting the data by converstion rate comparision\n",
        "theme_performance_sorted = theme_perfomance.sort_values(by = 'Conversion Rate', ascending = False)\n",
        "\n",
        "print(theme_performance_sorted)"
      ],
      "metadata": {
        "colab": {
          "base_uri": "https://localhost:8080/"
        },
        "id": "JHsaIf1Nv4QC",
        "outputId": "af737aa6-b639-4616-eb5c-612ae1199357"
      },
      "execution_count": null,
      "outputs": [
        {
          "output_type": "stream",
          "name": "stdout",
          "text": [
            "             Click Through Rate  Conversion Rate  Bounce Rate  Scroll_Depth  \\\n",
            "Theme                                                                         \n",
            "Light Theme            0.247109         0.255459     0.499035     50.735232   \n",
            "Dark Theme             0.264501         0.251282     0.512115     49.926404   \n",
            "\n",
            "                   Age  Session_Duration  \n",
            "Theme                                     \n",
            "Light Theme  41.734568        930.833333  \n",
            "Dark Theme   41.332685        919.482490  \n"
          ]
        }
      ]
    },
    {
      "cell_type": "code",
      "source": [
        "#extracting conversion rates for both themes\n",
        "conversion_rates_light = df[df['Theme'] == 'Light Theme']['Conversion Rate']\n",
        "conversion_rates_dark = df[df['Theme'] == 'Dark Theme']['Conversion Rate']\n",
        "\n",
        "t_stat, p_value = ttest_ind(conversion_rates_light, conversion_rates_dark, equal_var = False)\n",
        "\n",
        "t_stat, p_value"
      ],
      "metadata": {
        "colab": {
          "base_uri": "https://localhost:8080/"
        },
        "id": "WbSB4gu8v4Sl",
        "outputId": "f20cf309-54de-4cbd-f8ea-16c576e0f2bb"
      },
      "execution_count": null,
      "outputs": [
        {
          "output_type": "execute_result",
          "data": {
            "text/plain": [
              "(0.4748494462782632, 0.6349982678451778)"
            ]
          },
          "metadata": {},
          "execution_count": 8
        }
      ]
    },
    {
      "cell_type": "code",
      "source": [
        "#extracting ctr for both themes\n",
        "ctr_light = df[df['Theme'] == 'Light Theme']['Click Through Rate']\n",
        "ctr_dark = df[df['Theme'] == 'Dark Theme']['Click Through Rate']\n",
        "\n",
        "t_stat_ctr, p_value_ctr = ttest_ind(ctr_light, ctr_dark, equal_var = False)\n",
        "\n",
        "t_stat_ctr, p_value_ctr"
      ],
      "metadata": {
        "colab": {
          "base_uri": "https://localhost:8080/"
        },
        "id": "W93RN3RHv4YG",
        "outputId": "809683a3-afca-45de-adf4-d15255658aef"
      },
      "execution_count": null,
      "outputs": [
        {
          "output_type": "execute_result",
          "data": {
            "text/plain": [
              "(-1.9781708664172253, 0.04818435371010704)"
            ]
          },
          "metadata": {},
          "execution_count": 9
        }
      ]
    },
    {
      "cell_type": "code",
      "source": [
        "#extracting bonuce rate for both themes\n",
        "bounce_rates_light = df[df['Theme'] == 'Light Theme']['Bounce Rate']\n",
        "bounce_rates_dark = df[df['Theme'] == 'Dark Theme']['Bounce Rate']\n",
        "\n",
        "t_stat_bounce, p_value_bounce = ttest_ind(bounce_rates_light, bounce_rates_dark, equal_var = False)\n",
        "\n",
        "t_stat_bounce, p_value_bounce\n",
        "\n",
        "#extracting scroll depth for both themes\n",
        "scroll_depth_light = df[df['Theme'] == 'Light Theme']['Scroll_Depth']\n",
        "scroll_depth_dark = df[df['Theme'] == 'Dark Theme']['Scroll_Depth']\n",
        "\n",
        "t_stat_scroll, p_value_scroll = ttest_ind(scroll_depth_light, scroll_depth_dark, equal_var = False)\n",
        "\n",
        "t_stat_scroll, p_value_scroll\n",
        "\n",
        "#creating a table fro comparision\n",
        "comparision_table = pd.DataFrame({\n",
        "    'Metric': ['Click Through Rate','Conversion Rate','Bounce Rate', 'Scroll_Depth'],\n",
        "    'T-Statistic': [t_stat_ctr, t_stat, t_stat_bounce, t_stat_scroll],\n",
        "    'P-Value': [p_value_ctr, p_value, p_value_bounce, p_value_scroll]\n",
        "})\n",
        "\n",
        "comparision_table"
      ],
      "metadata": {
        "colab": {
          "base_uri": "https://localhost:8080/",
          "height": 173
        },
        "id": "fuP82VWDv4bN",
        "outputId": "836af6da-2944-4914-d17f-47b476451792"
      },
      "execution_count": null,
      "outputs": [
        {
          "output_type": "execute_result",
          "data": {
            "text/plain": [
              "               Metric  T-Statistic   P-Value\n",
              "0  Click Through Rate    -1.978171  0.048184\n",
              "1     Conversion Rate     0.474849  0.634998\n",
              "2         Bounce Rate    -1.201888  0.229692\n",
              "3        Scroll_Depth     0.756228  0.449692"
            ],
            "text/html": [
              "\n",
              "  <div id=\"df-9796dfe6-9fdf-4f00-a59b-0da9824a2a3a\" class=\"colab-df-container\">\n",
              "    <div>\n",
              "<style scoped>\n",
              "    .dataframe tbody tr th:only-of-type {\n",
              "        vertical-align: middle;\n",
              "    }\n",
              "\n",
              "    .dataframe tbody tr th {\n",
              "        vertical-align: top;\n",
              "    }\n",
              "\n",
              "    .dataframe thead th {\n",
              "        text-align: right;\n",
              "    }\n",
              "</style>\n",
              "<table border=\"1\" class=\"dataframe\">\n",
              "  <thead>\n",
              "    <tr style=\"text-align: right;\">\n",
              "      <th></th>\n",
              "      <th>Metric</th>\n",
              "      <th>T-Statistic</th>\n",
              "      <th>P-Value</th>\n",
              "    </tr>\n",
              "  </thead>\n",
              "  <tbody>\n",
              "    <tr>\n",
              "      <th>0</th>\n",
              "      <td>Click Through Rate</td>\n",
              "      <td>-1.978171</td>\n",
              "      <td>0.048184</td>\n",
              "    </tr>\n",
              "    <tr>\n",
              "      <th>1</th>\n",
              "      <td>Conversion Rate</td>\n",
              "      <td>0.474849</td>\n",
              "      <td>0.634998</td>\n",
              "    </tr>\n",
              "    <tr>\n",
              "      <th>2</th>\n",
              "      <td>Bounce Rate</td>\n",
              "      <td>-1.201888</td>\n",
              "      <td>0.229692</td>\n",
              "    </tr>\n",
              "    <tr>\n",
              "      <th>3</th>\n",
              "      <td>Scroll_Depth</td>\n",
              "      <td>0.756228</td>\n",
              "      <td>0.449692</td>\n",
              "    </tr>\n",
              "  </tbody>\n",
              "</table>\n",
              "</div>\n",
              "    <div class=\"colab-df-buttons\">\n",
              "\n",
              "  <div class=\"colab-df-container\">\n",
              "    <button class=\"colab-df-convert\" onclick=\"convertToInteractive('df-9796dfe6-9fdf-4f00-a59b-0da9824a2a3a')\"\n",
              "            title=\"Convert this dataframe to an interactive table.\"\n",
              "            style=\"display:none;\">\n",
              "\n",
              "  <svg xmlns=\"http://www.w3.org/2000/svg\" height=\"24px\" viewBox=\"0 -960 960 960\">\n",
              "    <path d=\"M120-120v-720h720v720H120Zm60-500h600v-160H180v160Zm220 220h160v-160H400v160Zm0 220h160v-160H400v160ZM180-400h160v-160H180v160Zm440 0h160v-160H620v160ZM180-180h160v-160H180v160Zm440 0h160v-160H620v160Z\"/>\n",
              "  </svg>\n",
              "    </button>\n",
              "\n",
              "  <style>\n",
              "    .colab-df-container {\n",
              "      display:flex;\n",
              "      gap: 12px;\n",
              "    }\n",
              "\n",
              "    .colab-df-convert {\n",
              "      background-color: #E8F0FE;\n",
              "      border: none;\n",
              "      border-radius: 50%;\n",
              "      cursor: pointer;\n",
              "      display: none;\n",
              "      fill: #1967D2;\n",
              "      height: 32px;\n",
              "      padding: 0 0 0 0;\n",
              "      width: 32px;\n",
              "    }\n",
              "\n",
              "    .colab-df-convert:hover {\n",
              "      background-color: #E2EBFA;\n",
              "      box-shadow: 0px 1px 2px rgba(60, 64, 67, 0.3), 0px 1px 3px 1px rgba(60, 64, 67, 0.15);\n",
              "      fill: #174EA6;\n",
              "    }\n",
              "\n",
              "    .colab-df-buttons div {\n",
              "      margin-bottom: 4px;\n",
              "    }\n",
              "\n",
              "    [theme=dark] .colab-df-convert {\n",
              "      background-color: #3B4455;\n",
              "      fill: #D2E3FC;\n",
              "    }\n",
              "\n",
              "    [theme=dark] .colab-df-convert:hover {\n",
              "      background-color: #434B5C;\n",
              "      box-shadow: 0px 1px 3px 1px rgba(0, 0, 0, 0.15);\n",
              "      filter: drop-shadow(0px 1px 2px rgba(0, 0, 0, 0.3));\n",
              "      fill: #FFFFFF;\n",
              "    }\n",
              "  </style>\n",
              "\n",
              "    <script>\n",
              "      const buttonEl =\n",
              "        document.querySelector('#df-9796dfe6-9fdf-4f00-a59b-0da9824a2a3a button.colab-df-convert');\n",
              "      buttonEl.style.display =\n",
              "        google.colab.kernel.accessAllowed ? 'block' : 'none';\n",
              "\n",
              "      async function convertToInteractive(key) {\n",
              "        const element = document.querySelector('#df-9796dfe6-9fdf-4f00-a59b-0da9824a2a3a');\n",
              "        const dataTable =\n",
              "          await google.colab.kernel.invokeFunction('convertToInteractive',\n",
              "                                                    [key], {});\n",
              "        if (!dataTable) return;\n",
              "\n",
              "        const docLinkHtml = 'Like what you see? Visit the ' +\n",
              "          '<a target=\"_blank\" href=https://colab.research.google.com/notebooks/data_table.ipynb>data table notebook</a>'\n",
              "          + ' to learn more about interactive tables.';\n",
              "        element.innerHTML = '';\n",
              "        dataTable['output_type'] = 'display_data';\n",
              "        await google.colab.output.renderOutput(dataTable, element);\n",
              "        const docLink = document.createElement('div');\n",
              "        docLink.innerHTML = docLinkHtml;\n",
              "        element.appendChild(docLink);\n",
              "      }\n",
              "    </script>\n",
              "  </div>\n",
              "\n",
              "\n",
              "<div id=\"df-ee2ffba8-0781-4331-a2e3-4f12103224ed\">\n",
              "  <button class=\"colab-df-quickchart\" onclick=\"quickchart('df-ee2ffba8-0781-4331-a2e3-4f12103224ed')\"\n",
              "            title=\"Suggest charts\"\n",
              "            style=\"display:none;\">\n",
              "\n",
              "<svg xmlns=\"http://www.w3.org/2000/svg\" height=\"24px\"viewBox=\"0 0 24 24\"\n",
              "     width=\"24px\">\n",
              "    <g>\n",
              "        <path d=\"M19 3H5c-1.1 0-2 .9-2 2v14c0 1.1.9 2 2 2h14c1.1 0 2-.9 2-2V5c0-1.1-.9-2-2-2zM9 17H7v-7h2v7zm4 0h-2V7h2v10zm4 0h-2v-4h2v4z\"/>\n",
              "    </g>\n",
              "</svg>\n",
              "  </button>\n",
              "\n",
              "<style>\n",
              "  .colab-df-quickchart {\n",
              "      --bg-color: #E8F0FE;\n",
              "      --fill-color: #1967D2;\n",
              "      --hover-bg-color: #E2EBFA;\n",
              "      --hover-fill-color: #174EA6;\n",
              "      --disabled-fill-color: #AAA;\n",
              "      --disabled-bg-color: #DDD;\n",
              "  }\n",
              "\n",
              "  [theme=dark] .colab-df-quickchart {\n",
              "      --bg-color: #3B4455;\n",
              "      --fill-color: #D2E3FC;\n",
              "      --hover-bg-color: #434B5C;\n",
              "      --hover-fill-color: #FFFFFF;\n",
              "      --disabled-bg-color: #3B4455;\n",
              "      --disabled-fill-color: #666;\n",
              "  }\n",
              "\n",
              "  .colab-df-quickchart {\n",
              "    background-color: var(--bg-color);\n",
              "    border: none;\n",
              "    border-radius: 50%;\n",
              "    cursor: pointer;\n",
              "    display: none;\n",
              "    fill: var(--fill-color);\n",
              "    height: 32px;\n",
              "    padding: 0;\n",
              "    width: 32px;\n",
              "  }\n",
              "\n",
              "  .colab-df-quickchart:hover {\n",
              "    background-color: var(--hover-bg-color);\n",
              "    box-shadow: 0 1px 2px rgba(60, 64, 67, 0.3), 0 1px 3px 1px rgba(60, 64, 67, 0.15);\n",
              "    fill: var(--button-hover-fill-color);\n",
              "  }\n",
              "\n",
              "  .colab-df-quickchart-complete:disabled,\n",
              "  .colab-df-quickchart-complete:disabled:hover {\n",
              "    background-color: var(--disabled-bg-color);\n",
              "    fill: var(--disabled-fill-color);\n",
              "    box-shadow: none;\n",
              "  }\n",
              "\n",
              "  .colab-df-spinner {\n",
              "    border: 2px solid var(--fill-color);\n",
              "    border-color: transparent;\n",
              "    border-bottom-color: var(--fill-color);\n",
              "    animation:\n",
              "      spin 1s steps(1) infinite;\n",
              "  }\n",
              "\n",
              "  @keyframes spin {\n",
              "    0% {\n",
              "      border-color: transparent;\n",
              "      border-bottom-color: var(--fill-color);\n",
              "      border-left-color: var(--fill-color);\n",
              "    }\n",
              "    20% {\n",
              "      border-color: transparent;\n",
              "      border-left-color: var(--fill-color);\n",
              "      border-top-color: var(--fill-color);\n",
              "    }\n",
              "    30% {\n",
              "      border-color: transparent;\n",
              "      border-left-color: var(--fill-color);\n",
              "      border-top-color: var(--fill-color);\n",
              "      border-right-color: var(--fill-color);\n",
              "    }\n",
              "    40% {\n",
              "      border-color: transparent;\n",
              "      border-right-color: var(--fill-color);\n",
              "      border-top-color: var(--fill-color);\n",
              "    }\n",
              "    60% {\n",
              "      border-color: transparent;\n",
              "      border-right-color: var(--fill-color);\n",
              "    }\n",
              "    80% {\n",
              "      border-color: transparent;\n",
              "      border-right-color: var(--fill-color);\n",
              "      border-bottom-color: var(--fill-color);\n",
              "    }\n",
              "    90% {\n",
              "      border-color: transparent;\n",
              "      border-bottom-color: var(--fill-color);\n",
              "    }\n",
              "  }\n",
              "</style>\n",
              "\n",
              "  <script>\n",
              "    async function quickchart(key) {\n",
              "      const quickchartButtonEl =\n",
              "        document.querySelector('#' + key + ' button');\n",
              "      quickchartButtonEl.disabled = true;  // To prevent multiple clicks.\n",
              "      quickchartButtonEl.classList.add('colab-df-spinner');\n",
              "      try {\n",
              "        const charts = await google.colab.kernel.invokeFunction(\n",
              "            'suggestCharts', [key], {});\n",
              "      } catch (error) {\n",
              "        console.error('Error during call to suggestCharts:', error);\n",
              "      }\n",
              "      quickchartButtonEl.classList.remove('colab-df-spinner');\n",
              "      quickchartButtonEl.classList.add('colab-df-quickchart-complete');\n",
              "    }\n",
              "    (() => {\n",
              "      let quickchartButtonEl =\n",
              "        document.querySelector('#df-ee2ffba8-0781-4331-a2e3-4f12103224ed button');\n",
              "      quickchartButtonEl.style.display =\n",
              "        google.colab.kernel.accessAllowed ? 'block' : 'none';\n",
              "    })();\n",
              "  </script>\n",
              "</div>\n",
              "\n",
              "  <div id=\"id_ce9c5115-b88f-4287-be00-8c947f67b7de\">\n",
              "    <style>\n",
              "      .colab-df-generate {\n",
              "        background-color: #E8F0FE;\n",
              "        border: none;\n",
              "        border-radius: 50%;\n",
              "        cursor: pointer;\n",
              "        display: none;\n",
              "        fill: #1967D2;\n",
              "        height: 32px;\n",
              "        padding: 0 0 0 0;\n",
              "        width: 32px;\n",
              "      }\n",
              "\n",
              "      .colab-df-generate:hover {\n",
              "        background-color: #E2EBFA;\n",
              "        box-shadow: 0px 1px 2px rgba(60, 64, 67, 0.3), 0px 1px 3px 1px rgba(60, 64, 67, 0.15);\n",
              "        fill: #174EA6;\n",
              "      }\n",
              "\n",
              "      [theme=dark] .colab-df-generate {\n",
              "        background-color: #3B4455;\n",
              "        fill: #D2E3FC;\n",
              "      }\n",
              "\n",
              "      [theme=dark] .colab-df-generate:hover {\n",
              "        background-color: #434B5C;\n",
              "        box-shadow: 0px 1px 3px 1px rgba(0, 0, 0, 0.15);\n",
              "        filter: drop-shadow(0px 1px 2px rgba(0, 0, 0, 0.3));\n",
              "        fill: #FFFFFF;\n",
              "      }\n",
              "    </style>\n",
              "    <button class=\"colab-df-generate\" onclick=\"generateWithVariable('comparision_table')\"\n",
              "            title=\"Generate code using this dataframe.\"\n",
              "            style=\"display:none;\">\n",
              "\n",
              "  <svg xmlns=\"http://www.w3.org/2000/svg\" height=\"24px\"viewBox=\"0 0 24 24\"\n",
              "       width=\"24px\">\n",
              "    <path d=\"M7,19H8.4L18.45,9,17,7.55,7,17.6ZM5,21V16.75L18.45,3.32a2,2,0,0,1,2.83,0l1.4,1.43a1.91,1.91,0,0,1,.58,1.4,1.91,1.91,0,0,1-.58,1.4L9.25,21ZM18.45,9,17,7.55Zm-12,3A5.31,5.31,0,0,0,4.9,8.1,5.31,5.31,0,0,0,1,6.5,5.31,5.31,0,0,0,4.9,4.9,5.31,5.31,0,0,0,6.5,1,5.31,5.31,0,0,0,8.1,4.9,5.31,5.31,0,0,0,12,6.5,5.46,5.46,0,0,0,6.5,12Z\"/>\n",
              "  </svg>\n",
              "    </button>\n",
              "    <script>\n",
              "      (() => {\n",
              "      const buttonEl =\n",
              "        document.querySelector('#id_ce9c5115-b88f-4287-be00-8c947f67b7de button.colab-df-generate');\n",
              "      buttonEl.style.display =\n",
              "        google.colab.kernel.accessAllowed ? 'block' : 'none';\n",
              "\n",
              "      buttonEl.onclick = () => {\n",
              "        google.colab.notebook.generateWithVariable('comparision_table');\n",
              "      }\n",
              "      })();\n",
              "    </script>\n",
              "  </div>\n",
              "\n",
              "    </div>\n",
              "  </div>\n"
            ],
            "application/vnd.google.colaboratory.intrinsic+json": {
              "type": "dataframe",
              "variable_name": "comparision_table",
              "summary": "{\n  \"name\": \"comparision_table\",\n  \"rows\": 4,\n  \"fields\": [\n    {\n      \"column\": \"Metric\",\n      \"properties\": {\n        \"dtype\": \"string\",\n        \"num_unique_values\": 4,\n        \"samples\": [\n          \"Conversion Rate\",\n          \"Scroll_Depth\",\n          \"Click Through Rate\"\n        ],\n        \"semantic_type\": \"\",\n        \"description\": \"\"\n      }\n    },\n    {\n      \"column\": \"T-Statistic\",\n      \"properties\": {\n        \"dtype\": \"number\",\n        \"std\": 1.3172478030444517,\n        \"min\": -1.9781708664172253,\n        \"max\": 0.7562277864140986,\n        \"num_unique_values\": 4,\n        \"samples\": [\n          0.4748494462782632,\n          0.7562277864140986,\n          -1.9781708664172253\n        ],\n        \"semantic_type\": \"\",\n        \"description\": \"\"\n      }\n    },\n    {\n      \"column\": \"P-Value\",\n      \"properties\": {\n        \"dtype\": \"number\",\n        \"std\": 0.2558507759909918,\n        \"min\": 0.04818435371010704,\n        \"max\": 0.6349982678451778,\n        \"num_unique_values\": 4,\n        \"samples\": [\n          0.6349982678451778,\n          0.4496919249484911,\n          0.04818435371010704\n        ],\n        \"semantic_type\": \"\",\n        \"description\": \"\"\n      }\n    }\n  ]\n}"
            }
          },
          "metadata": {},
          "execution_count": 10
        }
      ]
    },
    {
      "cell_type": "markdown",
      "source": [
        "So we can conclude from above that we fail to reject i.e we can't reject the null value hypothsis. As Conversion Rate, Bounce Rate, Scroll_Depth > pvalue(0.05)\n",
        "and only 1 param i.e Click Through Rate < pvalue(0.05)\n",
        "\n",
        "Note:\n",
        "- Null Hypo(HO): Tells that there is no difference between light and dark theme\n",
        "- Alternative Hypo(Ha): Tells that there is difference between light and dark theme\n"
      ],
      "metadata": {
        "id": "AZWRLbzf-dbB"
      }
    }
  ]
}