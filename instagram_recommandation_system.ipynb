{
  "nbformat": 4,
  "nbformat_minor": 0,
  "metadata": {
    "colab": {
      "provenance": []
    },
    "kernelspec": {
      "name": "python3",
      "display_name": "Python 3"
    },
    "language_info": {
      "name": "python"
    }
  },
  "cells": [
    {
      "cell_type": "code",
      "execution_count": 1,
      "metadata": {
        "id": "hDkDN96A5T8h"
      },
      "outputs": [],
      "source": [
        "import pandas as pd\n",
        "import numpy as np\n",
        "from sklearn.feature_extraction import text\n",
        "from sklearn.metrics.pairwise import cosine_similarity"
      ]
    },
    {
      "cell_type": "code",
      "source": [
        "from google.colab import drive\n",
        "drive.mount(\"/content/drive\")"
      ],
      "metadata": {
        "colab": {
          "base_uri": "https://localhost:8080/"
        },
        "id": "XkXn4T4F5iHJ",
        "outputId": "f63c0050-175f-439c-d97c-4b1809b04b9a"
      },
      "execution_count": 2,
      "outputs": [
        {
          "output_type": "stream",
          "name": "stdout",
          "text": [
            "Mounted at /content/drive\n"
          ]
        }
      ]
    },
    {
      "cell_type": "code",
      "source": [
        "df = pd.read_csv(\"/content/drive/MyDrive/DS/Datasets/Instagram_data.csv\")"
      ],
      "metadata": {
        "id": "TyIBKorS5i7c"
      },
      "execution_count": 3,
      "outputs": []
    },
    {
      "cell_type": "code",
      "source": [
        "print(df.head())"
      ],
      "metadata": {
        "colab": {
          "base_uri": "https://localhost:8080/"
        },
        "id": "1qGE6x146_CO",
        "outputId": "8c6ac074-be72-4f18-c641-9c49c1d6ed2a"
      },
      "execution_count": 4,
      "outputs": [
        {
          "output_type": "stream",
          "name": "stdout",
          "text": [
            "         Date  Impressions  From Home  From Hashtags  From Explore  \\\n",
            "0  2021-12-10         3920       2586           1028           619   \n",
            "1  2021-12-11         5394       2727           1838          1174   \n",
            "2  2021-12-12         4021       2085           1188             0   \n",
            "3  2021-12-13         4528       2700            621           932   \n",
            "4  2021-12-14         2518       1704            255           279   \n",
            "\n",
            "   From Other  Saves  Comments  Shares  Likes  Profile Visits  Follows  \\\n",
            "0          56     98         9       5    162              35        2   \n",
            "1          78    194         7      14    224              48       10   \n",
            "2         533     41        11       1    131              62       12   \n",
            "3          73    172        10       7    213              23        8   \n",
            "4          37     96         5       4    123               8        0   \n",
            "\n",
            "   Conversion Rate                                            Caption  \\\n",
            "0         5.714286  Here are some of the most important data visua...   \n",
            "1        20.833333  Here are some of the best data science project...   \n",
            "2        19.354839  Learn how to train a machine learning model an...   \n",
            "3        34.782609  Here’s how you can write a Python program to d...   \n",
            "4         0.000000  Plotting annotations while visualizing your da...   \n",
            "\n",
            "                                            Hashtags  \n",
            "0  #finance #money #business #investing #investme...  \n",
            "1  #healthcare #health #covid #data #datascience ...  \n",
            "2  #data #datascience #dataanalysis #dataanalytic...  \n",
            "3  #python #pythonprogramming #pythonprojects #py...  \n",
            "4  #datavisualization #datascience #data #dataana...  \n"
          ]
        }
      ]
    },
    {
      "cell_type": "code",
      "source": [
        "df = df[[\"Caption\", \"Hashtags\"]]\n",
        "print(df.head())"
      ],
      "metadata": {
        "colab": {
          "base_uri": "https://localhost:8080/"
        },
        "id": "vo-qivog6_FC",
        "outputId": "9c151c06-5172-4894-8086-e23f495f831b"
      },
      "execution_count": 5,
      "outputs": [
        {
          "output_type": "stream",
          "name": "stdout",
          "text": [
            "                                             Caption  \\\n",
            "0  Here are some of the most important data visua...   \n",
            "1  Here are some of the best data science project...   \n",
            "2  Learn how to train a machine learning model an...   \n",
            "3  Here’s how you can write a Python program to d...   \n",
            "4  Plotting annotations while visualizing your da...   \n",
            "\n",
            "                                            Hashtags  \n",
            "0  #finance #money #business #investing #investme...  \n",
            "1  #healthcare #health #covid #data #datascience ...  \n",
            "2  #data #datascience #dataanalysis #dataanalytic...  \n",
            "3  #python #pythonprogramming #pythonprojects #py...  \n",
            "4  #datavisualization #datascience #data #dataana...  \n"
          ]
        }
      ]
    },
    {
      "cell_type": "markdown",
      "source": [
        "Cosine similarity is used to find similarities between the two documents. It does this by calculating the similarity score between the vectors, which is done by finding the angles between them. The range of similarities is between 0 and 1. If the value of the similarity score between two vectors is 1, it means that there is a greater similarity between the two vectors.\n",
        "On the other hand, if the value of the similarity score between two vectors is 0, it means that there is no similarity between the two vectors. When the similarity score is one, the angle between two vectors is 0 and when the similarity score is 0, the angle between two vectors is 90 degrees.\n",
        "In machine learning applications, this technique is mainly used in recommendation systems to find the similarities between the description of two products so that we can recommend the most similar product to the user to provide a better user experience. In this section below, I will walk you through how to calculate cosine similarity using Python."
      ],
      "metadata": {
        "id": "UJz2Rhll73Po"
      }
    },
    {
      "cell_type": "code",
      "source": [
        "#we will using cosin similarities in here\n",
        "captions = df[\"Caption\"].tolist()\n",
        "uni_tfidf = text.TfidfVectorizer(stop_words = \"english\")\n",
        "uni_matrix = uni_tfidf.fit_transform(captions)\n",
        "uni_sim = cosine_similarity(uni_matrix)\n",
        "\n",
        "def recommend_post(x):\n",
        "  return \", \".join(df[\"Caption\"].loc[x.argsort()[-5:-1]])\n",
        "\n",
        "df[\"Recommended Post\"] = [recommend_post(x) for x in uni_sim]\n",
        "print(df.head())"
      ],
      "metadata": {
        "colab": {
          "base_uri": "https://localhost:8080/"
        },
        "id": "W-fAvM2z6_Kg",
        "outputId": "e3e93489-0ff9-415a-ce2c-8827c03de93f"
      },
      "execution_count": 6,
      "outputs": [
        {
          "output_type": "stream",
          "name": "stdout",
          "text": [
            "                                             Caption  \\\n",
            "0  Here are some of the most important data visua...   \n",
            "1  Here are some of the best data science project...   \n",
            "2  Learn how to train a machine learning model an...   \n",
            "3  Here’s how you can write a Python program to d...   \n",
            "4  Plotting annotations while visualizing your da...   \n",
            "\n",
            "                                            Hashtags  \\\n",
            "0  #finance #money #business #investing #investme...   \n",
            "1  #healthcare #health #covid #data #datascience ...   \n",
            "2  #data #datascience #dataanalysis #dataanalytic...   \n",
            "3  #python #pythonprogramming #pythonprojects #py...   \n",
            "4  #datavisualization #datascience #data #dataana...   \n",
            "\n",
            "                                    Recommended Post  \n",
            "0  Here are some of the most important tools that...  \n",
            "1  Here are some of the best data science project...  \n",
            "2  Data Science Use Cases: Here’s how Zomato is u...  \n",
            "3  Here’s how to write a Python function to rever...  \n",
            "4  Practice these 90+ Data Science Projects For B...  \n"
          ]
        },
        {
          "output_type": "stream",
          "name": "stderr",
          "text": [
            "/tmp/ipython-input-6-2086372231.py:10: SettingWithCopyWarning: \n",
            "A value is trying to be set on a copy of a slice from a DataFrame.\n",
            "Try using .loc[row_indexer,col_indexer] = value instead\n",
            "\n",
            "See the caveats in the documentation: https://pandas.pydata.org/pandas-docs/stable/user_guide/indexing.html#returning-a-view-versus-a-copy\n",
            "  df[\"Recommended Post\"] = [recommend_post(x) for x in uni_sim]\n"
          ]
        }
      ]
    },
    {
      "cell_type": "code",
      "source": [
        "print(df[\"Recommended Post\"][3])"
      ],
      "metadata": {
        "colab": {
          "base_uri": "https://localhost:8080/"
        },
        "id": "QGT69NkO6_NH",
        "outputId": "9fbb9a9d-f907-40ea-d922-5f16be27798a"
      },
      "execution_count": 7,
      "outputs": [
        {
          "output_type": "stream",
          "name": "stdout",
          "text": [
            "Here’s how to write a Python function to reverse a string., To calculate the execution time of the program, we need to calculate the time taken by the program from its initiation to the final result. Here’s how to calculate the execution time of a Python program., Here’s how to calculate execution time of a Python program., Grouping anagrams is one of the popular questions in coding interviews. Here you will be given a list of words, and you have to write an algorithm to group all the words which are anagrams of each other. Here's how to group anagrams using Python.\n"
          ]
        }
      ]
    }
  ]
}